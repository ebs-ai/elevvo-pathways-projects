{
 "cells": [
  {
   "cell_type": "code",
   "execution_count": 6,
   "id": "5acd7411-a2d5-4a12-827a-c6642bfd0fee",
   "metadata": {},
   "outputs": [
    {
     "name": "stdout",
     "output_type": "stream",
     "text": [
      "   userId  movieId  rating  timestamp                        title  \\\n",
      "0       1        1     4.0  964982703             Toy Story (1995)   \n",
      "1       1        3     4.0  964981247      Grumpier Old Men (1995)   \n",
      "2       1        6     4.0  964982224                  Heat (1995)   \n",
      "3       1       47     5.0  964983815  Seven (a.k.a. Se7en) (1995)   \n",
      "4       1       50     5.0  964982931   Usual Suspects, The (1995)   \n",
      "\n",
      "                                        genres  \n",
      "0  Adventure|Animation|Children|Comedy|Fantasy  \n",
      "1                               Comedy|Romance  \n",
      "2                        Action|Crime|Thriller  \n",
      "3                             Mystery|Thriller  \n",
      "4                       Crime|Mystery|Thriller  \n"
     ]
    }
   ],
   "source": [
    "import pandas as pd\n",
    "\n",
    "# read in ratings\n",
    "ratings = pd.read_csv(r\"C:\\Users\\HomePC\\Desktop\\envoypathways\\ratings.csv\")\n",
    "\n",
    "# read in movie details\n",
    "movies = pd.read_csv(r\"C:\\Users\\HomePC\\Desktop\\envoypathways\\movies.csv\")\n",
    "\n",
    "# Merge both datasets\n",
    "df = pd.merge(ratings, movies, on=\"movieId\")\n",
    "print(df.head())"
   ]
  },
  {
   "cell_type": "code",
   "execution_count": 7,
   "id": "25a035e3-0f8a-47aa-80d1-39f15970f9e5",
   "metadata": {},
   "outputs": [],
   "source": [
    "user_item_matrix = df.pivot_table(index=\"userId\", columns=\"title\", values=\"rating\")"
   ]
  },
  {
   "cell_type": "code",
   "execution_count": 8,
   "id": "ff3569ee-5563-4ee9-8ad3-cefa7d3417d4",
   "metadata": {},
   "outputs": [],
   "source": [
    "from sklearn.metrics.pairwise import cosine_similarity\n",
    "import numpy as np\n",
    "\n",
    "# Fill missing ratings with 0\n",
    "user_item_filled = user_item_matrix.fillna(0)\n",
    "\n",
    "# get  similarity\n",
    "user_similarity = cosine_similarity(user_item_filled)\n",
    "user_similarity_df = pd.DataFrame(user_similarity, index=user_item_matrix.index, columns=user_item_matrix.index)"
   ]
  },
  {
   "cell_type": "code",
   "execution_count": 12,
   "id": "a1b244f3-34cd-4ecb-9d11-0f40e62d98f6",
   "metadata": {},
   "outputs": [
    {
     "name": "stdout",
     "output_type": "stream",
     "text": [
      "title\n",
      "2001: A Space Odyssey (1968)                    5.0\n",
      "Aliens (1986)                                   5.0\n",
      "Austin Powers: The Spy Who Shagged Me (1999)    5.0\n",
      "Commitments, The (1991)                         5.0\n",
      "Casino (1995)                                   5.0\n",
      "Name: 266, dtype: float64\n"
     ]
    }
   ],
   "source": [
    "def recommend_movies(user_id, n=5):\n",
    "    # Get similarity scores for the user\n",
    "    sim_scores = user_similarity_df[user_id].sort_values(ascending=False)\n",
    "    \n",
    "    # Exclude the user themselves\n",
    "    sim_scores = sim_scores.drop(user_id)\n",
    "    \n",
    "    # Pick the most similar user\n",
    "    most_similar_user = sim_scores.idxmax()\n",
    "    \n",
    "    # Movies rated by similar user\n",
    "    movies_watched = user_item_matrix.loc[user_id].dropna().index\n",
    "    recommendations = user_item_matrix.loc[most_similar_user].dropna().sort_values(ascending=False)\n",
    "    \n",
    "    # Recommend movies not seen by the target user\n",
    "    recommendations = recommendations.drop(movies_watched, errors=\"ignore\")\n",
    "    \n",
    "    return recommendations.head(n)\n",
    "\n",
    "print(recommend_movies(user_id=1, n=5))\n"
   ]
  },
  {
   "cell_type": "code",
   "execution_count": 13,
   "id": "b066703c-2cf7-4371-a4c9-f0fb815d30ad",
   "metadata": {},
   "outputs": [],
   "source": [
    "def precision_at_k(recommended, actual, k):\n",
    "    recommended_k = recommended[:k]\n",
    "    relevant = set(recommended_k).intersection(set(actual))\n",
    "    return len(relevant) / k"
   ]
  },
  {
   "cell_type": "code",
   "execution_count": null,
   "id": "13feb6fa-0bb9-4b82-9910-9b8544c3d2a4",
   "metadata": {},
   "outputs": [],
   "source": []
  }
 ],
 "metadata": {
  "kernelspec": {
   "display_name": "Python [conda env:base] *",
   "language": "python",
   "name": "conda-base-py"
  },
  "language_info": {
   "codemirror_mode": {
    "name": "ipython",
    "version": 3
   },
   "file_extension": ".py",
   "mimetype": "text/x-python",
   "name": "python",
   "nbconvert_exporter": "python",
   "pygments_lexer": "ipython3",
   "version": "3.13.5"
  }
 },
 "nbformat": 4,
 "nbformat_minor": 5
}
